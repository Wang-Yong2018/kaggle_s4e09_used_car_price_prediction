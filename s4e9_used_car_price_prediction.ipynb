{
    "cells": [
        {
            "cell_type": "markdown",
            "metadata": {},
            "source": [
                "## Target\n",
                "it is used car price prediction, evaluation metric is rmse.\n",
                "the mean price of train is 43878.02. use mean price as single model , the kaggle public/private score is 78643/70105. \n",
                "\n",
                "## library & load_data \n",
                "### library\n"
            ]
        },
        {
            "cell_type": "code",
            "execution_count": 1,
            "metadata": {
                "vscode": {
                    "languageId": "r"
                }
            },
            "outputs": [
                {
                    "name": "stderr",
                    "output_type": "stream",
                    "text": [
                        "── \u001b[1mAttaching core tidyverse packages\u001b[22m ──────────────────────── tidyverse 2.0.0 ──\n",
                        "\u001b[32m✔\u001b[39m \u001b[34mdplyr    \u001b[39m 1.1.4     \u001b[32m✔\u001b[39m \u001b[34mreadr    \u001b[39m 2.1.5\n",
                        "\u001b[32m✔\u001b[39m \u001b[34mforcats  \u001b[39m 1.0.0     \u001b[32m✔\u001b[39m \u001b[34mstringr  \u001b[39m 1.5.1\n",
                        "\u001b[32m✔\u001b[39m \u001b[34mggplot2  \u001b[39m 3.5.1     \u001b[32m✔\u001b[39m \u001b[34mtibble   \u001b[39m 3.2.1\n",
                        "\u001b[32m✔\u001b[39m \u001b[34mlubridate\u001b[39m 1.9.3     \u001b[32m✔\u001b[39m \u001b[34mtidyr    \u001b[39m 1.3.1\n",
                        "\u001b[32m✔\u001b[39m \u001b[34mpurrr    \u001b[39m 1.0.2     \n",
                        "── \u001b[1mConflicts\u001b[22m ────────────────────────────────────────── tidyverse_conflicts() ──\n",
                        "\u001b[31m✖\u001b[39m \u001b[34mdplyr\u001b[39m::\u001b[32mfilter()\u001b[39m masks \u001b[34mstats\u001b[39m::filter()\n",
                        "\u001b[31m✖\u001b[39m \u001b[34mdplyr\u001b[39m::\u001b[32mlag()\u001b[39m    masks \u001b[34mstats\u001b[39m::lag()\n",
                        "\u001b[36mℹ\u001b[39m Use the conflicted package (\u001b[3m\u001b[34m<http://conflicted.r-lib.org/>\u001b[39m\u001b[23m) to force all conflicts to become errors\n",
                        "── \u001b[1mAttaching packages\u001b[22m ────────────────────────────────────── tidymodels 1.2.0 ──\n",
                        "\n",
                        "\u001b[32m✔\u001b[39m \u001b[34mbroom       \u001b[39m 1.0.7     \u001b[32m✔\u001b[39m \u001b[34mrsample     \u001b[39m 1.2.1\n",
                        "\u001b[32m✔\u001b[39m \u001b[34mdials       \u001b[39m 1.3.0     \u001b[32m✔\u001b[39m \u001b[34mtune        \u001b[39m 1.2.1\n",
                        "\u001b[32m✔\u001b[39m \u001b[34minfer       \u001b[39m 1.0.7     \u001b[32m✔\u001b[39m \u001b[34mworkflows   \u001b[39m 1.1.4\n",
                        "\u001b[32m✔\u001b[39m \u001b[34mmodeldata   \u001b[39m 1.4.0     \u001b[32m✔\u001b[39m \u001b[34mworkflowsets\u001b[39m 1.1.0\n",
                        "\u001b[32m✔\u001b[39m \u001b[34mparsnip     \u001b[39m 1.3.0     \u001b[32m✔\u001b[39m \u001b[34myardstick   \u001b[39m 1.3.1\n",
                        "\u001b[32m✔\u001b[39m \u001b[34mrecipes     \u001b[39m 1.1.0     \n",
                        "\n",
                        "── \u001b[1mConflicts\u001b[22m ───────────────────────────────────────── tidymodels_conflicts() ──\n",
                        "\u001b[31m✖\u001b[39m \u001b[34mscales\u001b[39m::\u001b[32mdiscard()\u001b[39m masks \u001b[34mpurrr\u001b[39m::discard()\n",
                        "\u001b[31m✖\u001b[39m \u001b[34mdplyr\u001b[39m::\u001b[32mfilter()\u001b[39m   masks \u001b[34mstats\u001b[39m::filter()\n",
                        "\u001b[31m✖\u001b[39m \u001b[34mrecipes\u001b[39m::\u001b[32mfixed()\u001b[39m  masks \u001b[34mstringr\u001b[39m::fixed()\n",
                        "\u001b[31m✖\u001b[39m \u001b[34mdplyr\u001b[39m::\u001b[32mlag()\u001b[39m      masks \u001b[34mstats\u001b[39m::lag()\n",
                        "\u001b[31m✖\u001b[39m \u001b[34myardstick\u001b[39m::\u001b[32mspec()\u001b[39m masks \u001b[34mreadr\u001b[39m::spec()\n",
                        "\u001b[31m✖\u001b[39m \u001b[34mrecipes\u001b[39m::\u001b[32mstep()\u001b[39m   masks \u001b[34mstats\u001b[39m::step()\n",
                        "\u001b[34m•\u001b[39m Learn how to get started at \u001b[32mhttps://www.tidymodels.org/start/\u001b[39m\n",
                        "\n"
                    ]
                }
            ],
            "source": [
                "library(tidyverse)\n",
                "library(tidymodels)\n",
                "library(future)\n",
                "library(textrecipes)\n",
                "\n",
                "library(bonsai)\n",
                "library(lightgbm)\n",
                "\n",
                "library(lubridate)\n"
            ]
        },
        {
            "cell_type": "markdown",
            "metadata": {},
            "source": [
                "\n",
                "### loading data\n"
            ]
        },
        {
            "cell_type": "code",
            "execution_count": 2,
            "metadata": {
                "vscode": {
                    "languageId": "r"
                }
            },
            "outputs": [],
            "source": [
                "data_path <- '../input/playground-series-s4e9/'\n",
                "train<- read.csv(file.path(data_path, 'train.csv'))\n",
                "test <-  read.csv(file.path(data_path, 'test.csv'))\n",
                "submission <-  read.csv(file.path(data_path, 'sample_submission.csv'))\n"
            ]
        },
        {
            "cell_type": "markdown",
            "metadata": {},
            "source": [
                "\n",
                "### quick skim\n"
            ]
        },
        {
            "cell_type": "code",
            "execution_count": null,
            "metadata": {
                "vscode": {
                    "languageId": "r"
                }
            },
            "outputs": [
                {
                    "name": "stdout",
                    "output_type": "stream",
                    "text": [
                        "── Data Summary ────────────────────────\n",
                        "                           Values\n",
                        "Name                       train \n",
                        "Number of rows             188533\n",
                        "Number of columns          13    \n",
                        "_______________________          \n",
                        "Column type frequency:           \n",
                        "  character                9     \n",
                        "  numeric                  4     \n",
                        "________________________         \n",
                        "Group variables            None  \n",
                        "\n",
                        "── Variable type: character ────────────────────────────────────────────────────\n",
                        "  skim_variable n_missing complete_rate min max empty n_unique whitespace\n",
                        "\u001b[90m1\u001b[39m brand                 0             1   3  13     0       57          0\n",
                        "\u001b[90m2\u001b[39m model                 0             1   2  55     0     \u001b[4m1\u001b[24m897          0\n",
                        "\u001b[90m3\u001b[39m fuel_type             0             1   0  14  \u001b[4m5\u001b[24m083        8          0\n",
                        "\u001b[90m4\u001b[39m engine                0             1   1  69     0     \u001b[4m1\u001b[24m117          0\n",
                        "\u001b[90m5\u001b[39m transmission          0             1   1  50     0       52          0\n",
                        "\u001b[90m6\u001b[39m ext_col               0             1   1  39     0      319          0\n",
                        "\u001b[90m7\u001b[39m int_col               0             1   1  26     0      156          0\n",
                        "\u001b[90m8\u001b[39m accident              0             1   0  38  \u001b[4m2\u001b[24m452        3          0\n",
                        "\u001b[90m9\u001b[39m clean_title           0             1   0   3 \u001b[4m2\u001b[24m\u001b[4m1\u001b[24m419        2          0\n",
                        "\n",
                        "── Variable type: numeric ──────────────────────────────────────────────────────\n",
                        "  skim_variable n_missing complete_rate   mean       sd   p0   p25   p50    p75\n",
                        "\u001b[90m1\u001b[39m id                    0             1 \u001b[4m9\u001b[24m\u001b[4m4\u001b[24m266  \u001b[4m5\u001b[24m\u001b[4m4\u001b[24m425.      0 \u001b[4m4\u001b[24m\u001b[4m7\u001b[24m133 \u001b[4m9\u001b[24m\u001b[4m4\u001b[24m266 \u001b[4m1\u001b[24m\u001b[4m4\u001b[24m\u001b[4m1\u001b[24m399\n",
                        "\u001b[90m2\u001b[39m model_year            0             1  \u001b[4m2\u001b[24m016.     5.66 \u001b[4m1\u001b[24m974  \u001b[4m2\u001b[24m013  \u001b[4m2\u001b[24m017   \u001b[4m2\u001b[24m020\n",
                        "\u001b[90m3\u001b[39m milage                0             1 \u001b[4m6\u001b[24m\u001b[4m5\u001b[24m705. \u001b[4m4\u001b[24m\u001b[4m9\u001b[24m798.    100 \u001b[4m2\u001b[24m\u001b[4m4\u001b[24m115 \u001b[4m5\u001b[24m\u001b[4m7\u001b[24m785  \u001b[4m9\u001b[24m\u001b[4m5\u001b[24m400\n",
                        "\u001b[90m4\u001b[39m price                 0             1 \u001b[4m4\u001b[24m\u001b[4m3\u001b[24m878. \u001b[4m7\u001b[24m\u001b[4m8\u001b[24m820.   \u001b[4m2\u001b[24m000 \u001b[4m1\u001b[24m\u001b[4m7\u001b[24m000 \u001b[4m3\u001b[24m\u001b[4m0\u001b[24m825  \u001b[4m4\u001b[24m\u001b[4m9\u001b[24m900\n",
                        "     p100 hist \n",
                        "\u001b[90m1\u001b[39m  \u001b[4m1\u001b[24m\u001b[4m8\u001b[24m\u001b[4m8\u001b[24m532 ▇▇▇▇▇\n",
                        "\u001b[90m2\u001b[39m    \u001b[4m2\u001b[24m024 ▁▁▁▃▇\n",
                        "\u001b[90m3\u001b[39m  \u001b[4m4\u001b[24m\u001b[4m0\u001b[24m\u001b[4m5\u001b[24m000 ▇▃▁▁▁\n",
                        "\u001b[90m4\u001b[39m 2\u001b[4m9\u001b[24m\u001b[4m5\u001b[24m\u001b[4m4\u001b[24m083 ▇▁▁▁▁\n"
                    ]
                },
                {
                    "ename": "ERROR",
                    "evalue": "Error in is.null(text_repr) || nchar(text_repr) == 0L: 'length = 17' in coercion to 'logical(1)'\n",
                    "output_type": "error",
                    "traceback": [
                        "Error in is.null(text_repr) || nchar(text_repr) == 0L: 'length = 17' in coercion to 'logical(1)'\nTraceback:\n"
                    ]
                }
            ],
            "source": [
                "# train|> skimr::skim()\n",
                "\n"
            ]
        },
        {
            "cell_type": "markdown",
            "metadata": {},
            "source": [
                "\n",
                "\n"
            ]
        },
        {
            "cell_type": "code",
            "execution_count": null,
            "metadata": {
                "vscode": {
                    "languageId": "r"
                }
            },
            "outputs": [
                {
                    "name": "stdout",
                    "output_type": "stream",
                    "text": [
                        "── Data Summary ────────────────────────\n",
                        "                           Values\n",
                        "Name                       test  \n",
                        "Number of rows             125690\n",
                        "Number of columns          12    \n",
                        "_______________________          \n",
                        "Column type frequency:           \n",
                        "  character                9     \n",
                        "  numeric                  3     \n",
                        "________________________         \n",
                        "Group variables            None  \n",
                        "\n",
                        "── Variable type: character ────────────────────────────────────────────────────\n",
                        "  skim_variable n_missing complete_rate min max empty n_unique whitespace\n",
                        "\u001b[90m1\u001b[39m brand                 0             1   3  13     0       55          0\n",
                        "\u001b[90m2\u001b[39m model                 0             1   2  55     0     \u001b[4m1\u001b[24m891          0\n",
                        "\u001b[90m3\u001b[39m fuel_type             0             1   0  14  \u001b[4m3\u001b[24m383        8          0\n",
                        "\u001b[90m4\u001b[39m engine                0             1   1  69     0     \u001b[4m1\u001b[24m117          0\n",
                        "\u001b[90m5\u001b[39m transmission          0             1   1  50     0       52          0\n",
                        "\u001b[90m6\u001b[39m ext_col               0             1   1  39     0      317          0\n",
                        "\u001b[90m7\u001b[39m int_col               0             1   1  26     0      156          0\n",
                        "\u001b[90m8\u001b[39m accident              0             1   0  38  \u001b[4m1\u001b[24m632        3          0\n",
                        "\u001b[90m9\u001b[39m clean_title           0             1   0   3 \u001b[4m1\u001b[24m\u001b[4m4\u001b[24m239        2          0\n",
                        "\n",
                        "── Variable type: numeric ──────────────────────────────────────────────────────\n",
                        "  skim_variable n_missing complete_rate    mean       sd     p0     p25     p50\n",
                        "\u001b[90m1\u001b[39m id                    0             1 \u001b[4m2\u001b[24m\u001b[4m5\u001b[24m\u001b[4m1\u001b[24m378. \u001b[4m3\u001b[24m\u001b[4m6\u001b[24m284.   \u001b[4m1\u001b[24m\u001b[4m8\u001b[24m\u001b[4m8\u001b[24m533 \u001b[4m2\u001b[24m\u001b[4m1\u001b[24m\u001b[4m9\u001b[24m955. \u001b[4m2\u001b[24m\u001b[4m5\u001b[24m\u001b[4m1\u001b[24m378.\n",
                        "\u001b[90m2\u001b[39m model_year            0             1   \u001b[4m2\u001b[24m016.     5.67   \u001b[4m1\u001b[24m974   \u001b[4m2\u001b[24m013    \u001b[4m2\u001b[24m017 \n",
                        "\u001b[90m3\u001b[39m milage                0             1  \u001b[4m6\u001b[24m\u001b[4m6\u001b[24m043. \u001b[4m5\u001b[24m\u001b[4m0\u001b[24m224.      100  \u001b[4m2\u001b[24m\u001b[4m4\u001b[24m500   \u001b[4m5\u001b[24m\u001b[4m7\u001b[24m500 \n",
                        "      p75   p100 hist \n",
                        "\u001b[90m1\u001b[39m \u001b[4m2\u001b[24m\u001b[4m8\u001b[24m\u001b[4m2\u001b[24m800. \u001b[4m3\u001b[24m\u001b[4m1\u001b[24m\u001b[4m4\u001b[24m222 ▇▇▇▇▇\n",
                        "\u001b[90m2\u001b[39m   \u001b[4m2\u001b[24m020    \u001b[4m2\u001b[24m024 ▁▁▁▃▇\n",
                        "\u001b[90m3\u001b[39m  \u001b[4m9\u001b[24m\u001b[4m5\u001b[24m798  \u001b[4m4\u001b[24m\u001b[4m0\u001b[24m\u001b[4m5\u001b[24m000 ▇▃▁▁▁\n"
                    ]
                },
                {
                    "ename": "ERROR",
                    "evalue": "Error in is.null(text_repr) || nchar(text_repr) == 0L: 'length = 17' in coercion to 'logical(1)'\n",
                    "output_type": "error",
                    "traceback": [
                        "Error in is.null(text_repr) || nchar(text_repr) == 0L: 'length = 17' in coercion to 'logical(1)'\nTraceback:\n"
                    ]
                }
            ],
            "source": [
                "# test|> skimr::skim()\n",
                "\n"
            ]
        },
        {
            "cell_type": "markdown",
            "metadata": {},
            "source": [
                "\n",
                "\n"
            ]
        },
        {
            "cell_type": "code",
            "execution_count": null,
            "metadata": {
                "vscode": {
                    "languageId": "r"
                }
            },
            "outputs": [
                {
                    "name": "stdout",
                    "output_type": "stream",
                    "text": [
                        "── Data Summary ────────────────────────\n",
                        "                           Values    \n",
                        "Name                       submission\n",
                        "Number of rows             125690    \n",
                        "Number of columns          2         \n",
                        "_______________________              \n",
                        "Column type frequency:               \n",
                        "  numeric                  2         \n",
                        "________________________             \n",
                        "Group variables            None      \n",
                        "\n",
                        "── Variable type: numeric ──────────────────────────────────────────────────────\n",
                        "  skim_variable n_missing complete_rate    mean     sd      p0     p25     p50\n",
                        "\u001b[90m1\u001b[39m id                    0             1 \u001b[4m2\u001b[24m\u001b[4m5\u001b[24m\u001b[4m1\u001b[24m378. \u001b[4m3\u001b[24m\u001b[4m6\u001b[24m284. \u001b[4m1\u001b[24m\u001b[4m8\u001b[24m\u001b[4m8\u001b[24m533  \u001b[4m2\u001b[24m\u001b[4m1\u001b[24m\u001b[4m9\u001b[24m955. \u001b[4m2\u001b[24m\u001b[4m5\u001b[24m\u001b[4m1\u001b[24m378.\n",
                        "\u001b[90m2\u001b[39m price                 0             1  \u001b[4m4\u001b[24m\u001b[4m3\u001b[24m878.     0   \u001b[4m4\u001b[24m\u001b[4m3\u001b[24m878.  \u001b[4m4\u001b[24m\u001b[4m3\u001b[24m878.  \u001b[4m4\u001b[24m\u001b[4m3\u001b[24m878.\n",
                        "      p75    p100 hist \n",
                        "\u001b[90m1\u001b[39m \u001b[4m2\u001b[24m\u001b[4m8\u001b[24m\u001b[4m2\u001b[24m800. \u001b[4m3\u001b[24m\u001b[4m1\u001b[24m\u001b[4m4\u001b[24m222  ▇▇▇▇▇\n",
                        "\u001b[90m2\u001b[39m  \u001b[4m4\u001b[24m\u001b[4m3\u001b[24m878.  \u001b[4m4\u001b[24m\u001b[4m3\u001b[24m878. ▁▁▇▁▁\n"
                    ]
                },
                {
                    "ename": "ERROR",
                    "evalue": "Error in is.null(text_repr) || nchar(text_repr) == 0L: 'length = 12' in coercion to 'logical(1)'\n",
                    "output_type": "error",
                    "traceback": [
                        "Error in is.null(text_repr) || nchar(text_repr) == 0L: 'length = 12' in coercion to 'logical(1)'\nTraceback:\n"
                    ]
                }
            ],
            "source": [
                "# submission |> skimr::skim()\n",
                "\n"
            ]
        },
        {
            "cell_type": "markdown",
            "metadata": {},
            "source": [
                "\n",
                "### check if train & test is same distribution\n"
            ]
        },
        {
            "cell_type": "code",
            "execution_count": 7,
            "metadata": {
                "vscode": {
                    "languageId": "r"
                }
            },
            "outputs": [
                {
                    "name": "stderr",
                    "output_type": "stream",
                    "text": [
                        "Warning message:\n",
                        "\"\u001b[1m\u001b[22mThere were 9 warnings in `summarise()`.\n",
                        "The first warning was:\n",
                        "\u001b[1m\u001b[22m\u001b[36mℹ\u001b[39m In argument: `brand = (function (x, y = NULL, na.rm = FALSE, use) ...`.\n",
                        "Caused by warning:\n",
                        "\u001b[33m!\u001b[39m NAs introduced by coercion\n",
                        "\u001b[1m\u001b[22m\u001b[36mℹ\u001b[39m Run `dplyr::last_dplyr_warnings()` to see the 8 remaining warnings.\"\n"
                    ]
                },
                {
                    "data": {
                        "text/html": [
                            "<table class=\"dataframe\">\n",
                            "<caption>A tibble: 13 × 2</caption>\n",
                            "<thead>\n",
                            "\t<tr><th scope=col>feature</th><th scope=col>variance</th></tr>\n",
                            "\t<tr><th scope=col>&lt;chr&gt;</th><th scope=col>&lt;dbl&gt;</th></tr>\n",
                            "</thead>\n",
                            "<tbody>\n",
                            "\t<tr><td>id          </td><td>2.962073e+09</td></tr>\n",
                            "\t<tr><td>brand       </td><td>          NA</td></tr>\n",
                            "\t<tr><td>model       </td><td>          NA</td></tr>\n",
                            "\t<tr><td>model_year  </td><td>3.204655e+01</td></tr>\n",
                            "\t<tr><td>milage      </td><td>2.479857e+09</td></tr>\n",
                            "\t<tr><td>fuel_type   </td><td>          NA</td></tr>\n",
                            "\t<tr><td>engine      </td><td>          NA</td></tr>\n",
                            "\t<tr><td>transmission</td><td>          NA</td></tr>\n",
                            "\t<tr><td>ext_col     </td><td>          NA</td></tr>\n",
                            "\t<tr><td>int_col     </td><td>          NA</td></tr>\n",
                            "\t<tr><td>accident    </td><td>          NA</td></tr>\n",
                            "\t<tr><td>clean_title </td><td>          NA</td></tr>\n",
                            "\t<tr><td>price       </td><td>6.212517e+09</td></tr>\n",
                            "</tbody>\n",
                            "</table>\n"
                        ],
                        "text/latex": [
                            "A tibble: 13 × 2\n",
                            "\\begin{tabular}{ll}\n",
                            " feature & variance\\\\\n",
                            " <chr> & <dbl>\\\\\n",
                            "\\hline\n",
                            "\t id           & 2.962073e+09\\\\\n",
                            "\t brand        &           NA\\\\\n",
                            "\t model        &           NA\\\\\n",
                            "\t model\\_year   & 3.204655e+01\\\\\n",
                            "\t milage       & 2.479857e+09\\\\\n",
                            "\t fuel\\_type    &           NA\\\\\n",
                            "\t engine       &           NA\\\\\n",
                            "\t transmission &           NA\\\\\n",
                            "\t ext\\_col      &           NA\\\\\n",
                            "\t int\\_col      &           NA\\\\\n",
                            "\t accident     &           NA\\\\\n",
                            "\t clean\\_title  &           NA\\\\\n",
                            "\t price        & 6.212517e+09\\\\\n",
                            "\\end{tabular}\n"
                        ],
                        "text/markdown": [
                            "\n",
                            "A tibble: 13 × 2\n",
                            "\n",
                            "| feature &lt;chr&gt; | variance &lt;dbl&gt; |\n",
                            "|---|---|\n",
                            "| id           | 2.962073e+09 |\n",
                            "| brand        |           NA |\n",
                            "| model        |           NA |\n",
                            "| model_year   | 3.204655e+01 |\n",
                            "| milage       | 2.479857e+09 |\n",
                            "| fuel_type    |           NA |\n",
                            "| engine       |           NA |\n",
                            "| transmission |           NA |\n",
                            "| ext_col      |           NA |\n",
                            "| int_col      |           NA |\n",
                            "| accident     |           NA |\n",
                            "| clean_title  |           NA |\n",
                            "| price        | 6.212517e+09 |\n",
                            "\n"
                        ],
                        "text/plain": [
                            "   feature      variance    \n",
                            "1  id           2.962073e+09\n",
                            "2  brand                  NA\n",
                            "3  model                  NA\n",
                            "4  model_year   3.204655e+01\n",
                            "5  milage       2.479857e+09\n",
                            "6  fuel_type              NA\n",
                            "7  engine                 NA\n",
                            "8  transmission           NA\n",
                            "9  ext_col                NA\n",
                            "10 int_col                NA\n",
                            "11 accident               NA\n",
                            "12 clean_title            NA\n",
                            "13 price        6.212517e+09"
                        ]
                    },
                    "metadata": {},
                    "output_type": "display_data"
                }
            ],
            "source": [
                "get_df_var<-function(df){\n",
                "  df|>\n",
                "    summarize_all(var)|>\n",
                "    pivot_longer(cols=everything(),\n",
                "                 names_to='feature',\n",
                "                 values_to='variance')\n",
                "  \n",
                "}\n",
                "train|>get_df_var()\n"
            ]
        },
        {
            "cell_type": "markdown",
            "metadata": {},
            "source": [
                "\n",
                "\n"
            ]
        },
        {
            "cell_type": "code",
            "execution_count": null,
            "metadata": {
                "vscode": {
                    "languageId": "r"
                }
            },
            "outputs": [],
            "source": [
                "get_var_compare <- function(rcp,is_debug=F){\n",
                "  \n",
                "  train_var <- rcp|> \n",
                "    prep()|>bake(new_data=train)|>\n",
                "    select(-loan_status, -id) |> # 去除目标变量和ID变量\n",
                "    summarise_all(var)|>\n",
                "    pivot_longer(cols = everything(),\n",
                "               names_to = \"feature\",\n",
                "               values_to = \"variance\")\n",
                "    \n",
                "  test_var  <- rcp|>\n",
                "    prep()|>bake(new_data=test)|>\n",
                "    select( -id) |> # 去除目标变量和ID变量\n",
                "    summarise_all(var)|>\n",
                "    pivot_longer(cols = everything(),\n",
                "               names_to = \"feature\",\n",
                "               values_to = \"variance\")\n",
                "  \n",
                "  compared_result<-\n",
                "    train_var |> \n",
                "    left_join(test_var, by='feature')|>\n",
                "    mutate(variance_ratio = round(variance.x / variance.y,2))\n",
                "  \n",
                "  nfeature_var_changed <- \n",
                "    compared_result|>\n",
                "    filter(variance_ratio >1*1.5 ) |>\n",
                "    nrow()\n",
                " \n",
                "  if (is_debug){\n",
                "    print(compared_result)\n",
                "    \n",
                "  } \n",
                "  return(nfeature_var_changed)\n",
                "}\n"
            ]
        },
        {
            "cell_type": "markdown",
            "metadata": {},
            "source": [
                "## coding\n",
                "### 1. Data Loading and Initial Exploration ----\n",
                "\n",
                "\n",
                "\n",
                "### 2. Feature Engineering ----\n",
                "- leave it in the preprocessing recipe\n",
                "\n",
                "### 3. Data Splitting ----\n",
                "#### augment_df\n"
            ]
        },
        {
            "cell_type": "code",
            "execution_count": null,
            "metadata": {
                "vscode": {
                    "languageId": "r"
                }
            },
            "outputs": [],
            "source": [
                "get_brand_meta <- function(){\n",
                "  meta_df <- train|>\n",
                "    summarize(cnt=n(), \n",
                "              avg_price=mean(price),\n",
                "              median_price=median(price),\n",
                "              min_p=min(price),\n",
                "              max_p=max(price),\n",
                "              sd_p=sd(price),\n",
                "              iqr_p = IQR(price),\n",
                "              mad_p = mad(price),\n",
                "              .by = brand)\n",
                "  return(meta_df)\n",
                "}\n",
                "get_engine_meta <- function(){}\n",
                "get_brand_meta()\n"
            ]
        },
        {
            "cell_type": "markdown",
            "metadata": {},
            "source": [
                "#### split/cv\n",
                "\n"
            ]
        },
        {
            "cell_type": "code",
            "execution_count": null,
            "metadata": {
                "vscode": {
                    "languageId": "r"
                }
            },
            "outputs": [],
            "source": [
                "set.seed(1234)\n",
                "df_split <- initial_split(train, prop = 0.8, strata = price)\n",
                " train_set <- training(df_split)\n",
                " test_set <- testing(df_split)\n",
                "cv_folds <- vfold_cv(train_set,v = 5,strata=price)\n"
            ]
        },
        {
            "cell_type": "markdown",
            "metadata": {},
            "source": [
                "### 4. Preprocessing Recipe ----\n",
                "\n",
                "#### 4.1 v0 base_line\n"
            ]
        },
        {
            "cell_type": "code",
            "execution_count": null,
            "metadata": {
                "vscode": {
                    "languageId": "r"
                }
            },
            "outputs": [],
            "source": [
                "rcp_bs_v0 <-\n",
                "  recipe(price ~ ., data = train) |>\n",
                "  update_role(id, new_role = \"id\") |>\n",
                "  step_rm(ext_col,int_col)|>\n",
                "  step_impute_median(all_numeric_predictors())|>\n",
                "  step_mutate(model_year=2025-model_year,\n",
                "              milage_year=milage/model_year,\n",
                "              accident=case_when(\n",
                "                accident=='None reported'~'none',\n",
                "                accident=='At least 1 accident or damage reported'~'report',\n",
                "                accident==''~NA,\n",
                "                .default='unknow'))|>\n",
                "  step_mutate(brand= as.factor(brand),\n",
                "              model= as.factor(model),\n",
                "              engine= as.factor(engine),\n",
                "              #ext_col= as.factor(ext_col),\n",
                "              #int_col= as.factor(int_col),\n",
                "              transmission= as.factor(transmission),\n",
                "              clean_title= as.factor(clean_title),\n",
                "              accident= as.factor(accident),\n",
                "              fuel_type=as.factor(fuel_type))|>\n",
                "  step_novel(all_nominal_predictors())|>\n",
                "  step_unknown(all_nominal_predictors())|>\n",
                "  step_other(all_nominal_predictors(),threshold=0.01)|>\n",
                "  step_dummy(all_nominal_predictors(),one_hot = TRUE)|>\n",
                "  \n",
                "  #step_log(price, offset=1, skip=TRUE) |>\n",
                "  step_log(milage,model_year,milage_year ,offset=1) |>\n",
                "  \n",
                "  step_nzv(all_numeric_predictors())|>\n",
                "  step_normalize(all_numeric_predictors())|>\n",
                "  step_corr(all_predictors())|>\n",
                "  check_missing(all_predictors())\n",
                " \n",
                "#rcp_bs_v0 |>prep()\n",
                "  \n"
            ]
        },
        {
            "cell_type": "markdown",
            "metadata": {},
            "source": [
                "#### 4.2 v1 base_line with engine feature\n"
            ]
        },
        {
            "cell_type": "code",
            "execution_count": null,
            "metadata": {
                "vscode": {
                    "languageId": "r"
                }
            },
            "outputs": [],
            "source": [
                "rcp_bs_v1 <- \n",
                "   recipe(price ~ ., data = train) |>\n",
                "  update_role(id, new_role = \"id\") |>\n",
                "  step_rm(ext_col,int_col)|>\n",
                "  step_mutate(\n",
                "    hp =stringr::str_extract(engine, \"^(\\\\d+\\\\.?\\\\d*)HP|^(\\\\d+)HP\")|>readr::parse_number(),\n",
                "    hp_missing = case_when(is.na(hp)~1,.default=0),\n",
                "    litre = stringr::str_extract(engine, \"(\\\\d+\\\\.?\\\\d*)L|(\\\\d+\\\\.?\\\\d*) Liter\")|>readr::parse_number(),\n",
                "    litre_missing = case_when(is.na(litre)~1,.default=0),\n",
                "    engine_type = stringr::str_extract(engine,'Rotary|H6|H4|V6|V-8|V8|V10|V12|W12|I3|I4|I6|\\\\s[4|5|6|8]\\\\s| 10 | 12 '),\n",
                "    is_ecar=case_when(grepl('Electric',engine)~1,.default=0),\n",
                "    voltage = stringr::str_extract(engine, \" (\\\\d\\\\d)V\")|>readr::parse_number(),\n",
                "    voltage_missing = case_when(is.na(voltage)~1,.default=0),\n",
                "    gdi_type = stringr::str_extract(engine, \"GDI|PFI|EFI|MPFI|DDI|SIDI\"),\n",
                "    gas_position = stringr::str_extract(engine, \"OHV|OHC|SOHC|DOHC\"),\n",
                "    cylinder = stringr::str_extract(engine, \"(\\\\d+) Cylinder|(\\\\d+) Cylinder Engine|(\\\\d+)(?=[^\\\\d]*Cylinder)\"),\n",
                "    is_turbo = case_when(grepl('Turbo|turbo',engine)~'YES'),\n",
                "    is_twinturbo= case_when(grepl('Twin|twin',engine)~'YES'),\n",
                "    fuel_info = stringr::str_extract(engine, \"Gasoline|Diesel|Electric|Flexible Fuel|Gasoline/Mild Electric Hybrid|Flex Fuel Capability\") )|>\n",
                "  step_rm(engine)|>\n",
                "   step_impute_median(all_numeric_predictors())|>\n",
                "  step_mutate(model_year=2025-model_year,\n",
                "              milage_year=milage/model_year,\n",
                "              accident=case_when(\n",
                "                accident=='None reported'~'none',\n",
                "                accident=='At least 1 accident or damage reported'~'report',\n",
                "                accident==''~NA,\n",
                "                .default='unknow'))|>\n",
                "  step_mutate(brand= as.factor(brand),\n",
                "              model= as.factor(model),\n",
                "              #engine= as.factor(engine),\n",
                "              #ext_col= as.factor(ext_col),\n",
                "              #int_col= as.factor(int_col),\n",
                "              transmission= as.factor(transmission),\n",
                "              clean_title= as.factor(clean_title),\n",
                "              accident= as.factor(accident),\n",
                "              fuel_type=as.factor(fuel_type))|>\n",
                "   step_novel(all_nominal_predictors())|>\n",
                "  step_unknown(all_nominal_predictors())|>\n",
                "  step_other(all_nominal_predictors(),threshold=0.01)|>\n",
                " step_dummy(all_nominal_predictors(),one_hot = TRUE)|>\n",
                " #step_log(price, offset=1, skip=TRUE) |> # lead to bad rmse, remove it\n",
                " step_log(milage,model_year,milage_year ,offset=1) |>\n",
                " step_nzv(all_numeric_predictors())|>\n",
                " step_normalize(all_numeric_predictors())|>\n",
                " step_corr(all_predictors())|>\n",
                " check_missing(all_predictors())\n",
                "# rcp_bs_v1 |>prep() |>bake(new_data = train_set)\n"
            ]
        },
        {
            "cell_type": "markdown",
            "metadata": {},
            "source": [
                "\n",
                "#### 4.3 v2 base_line with transmission feature\n"
            ]
        },
        {
            "cell_type": "code",
            "execution_count": null,
            "metadata": {
                "vscode": {
                    "languageId": "r"
                }
            },
            "outputs": [],
            "source": [
                "rcp_bs_v2 <- \n",
                "   recipe(price ~ ., data = train) |>\n",
                "  update_role(id, new_role = \"id\") |>\n",
                "  step_rm(ext_col,int_col)|>\n",
                "  step_mutate(speed =stringr::str_extract(transmission, \"^(\\\\d+)-Speed\")|>readr::parse_number(),\n",
                "              speed_missing = case_when(is.na(speed)~1,.default=0), \n",
                "              trans_mode=stringr::str_extract(transmission, 'Dual Shift Mode|Auto-Shift|A/T|AT|M/T|Mt|Automatic|At/Mt|F|Manual|Overdrive|CVT|Variable')) |>\n",
                "  step_rm(engine)|>\n",
                "  step_rm(transmission)|>\n",
                "  step_impute_median(all_numeric_predictors())|>\n",
                "  step_mutate(model_year=2025-model_year,\n",
                "              milage_year=milage/model_year,\n",
                "              accident=case_when(\n",
                "                accident=='None reported'~'none',\n",
                "                accident=='At least 1 accident or damage reported'~'report',\n",
                "                accident==''~NA,\n",
                "                .default='unknow'))|>\n",
                "  step_mutate(brand= as.factor(brand),\n",
                "              model= as.factor(model),\n",
                "              #engine= as.factor(engine),\n",
                "              #ext_col= as.factor(ext_col),\n",
                "              #int_col= as.factor(int_col),\n",
                "              #transmission= as.factor(transmission),\n",
                "              clean_title= as.factor(clean_title),\n",
                "              accident= as.factor(accident),\n",
                "              fuel_type=as.factor(fuel_type))|>\n",
                "   step_novel(all_nominal_predictors())|>\n",
                "  step_unknown(all_nominal_predictors())|>\n",
                "  step_other(all_nominal_predictors(),threshold=0.01)|>\n",
                "  step_dummy(all_nominal_predictors(),one_hot = TRUE)|>\n",
                "  #step_log(price, offset=1, skip=TRUE) |> # lead to bad rmse, remove it\n",
                "  step_log(milage,model_year,milage_year ,offset=1) |>\n",
                "  step_nzv(all_numeric_predictors())|>\n",
                "  step_normalize(all_numeric_predictors())|>\n",
                "  step_corr(all_numeric_predictors())|>\n",
                "  check_missing(all_predictors())\n",
                "#rcp_bs_v2 |> prep()|> bake(new_data = train_set)\n"
            ]
        },
        {
            "cell_type": "markdown",
            "metadata": {},
            "source": [
                "\n",
                "#### 4.3 v3 base_line with model\n"
            ]
        },
        {
            "cell_type": "code",
            "execution_count": null,
            "metadata": {
                "vscode": {
                    "languageId": "r"
                }
            },
            "outputs": [],
            "source": [
                "rcp_bs_v3<-recipe(price ~ ., data = train) |>\n",
                "  update_role(id, new_role = \"id\") |>\n",
                "  step_rm(ext_col,int_col)|>\n",
                "  step_mutate(model_type=stringr::str_extract(tolower(model),\n",
                "                                '([a-z]-class)|(premium|luxury|base|sport|premium plus|premium|turbo|matic|se|sel|platinum|limited|deluxe|laramie|lux|luxury|ultimate|gt|hse|xle|xlt)|( lt)'),\n",
                "         model_word = stringr::str_extract(model, \"^\\\\b[[:alnum:]-]+\\\\b\"),\n",
                "         # Extract the first number\n",
                "         model_number = stringr::str_extract(stringr::str_replace(model, \"\\\\b[[:alnum:]-]+\\\\b\", \"\"), \"\\\\d+\"))|>\n",
                "  step_rm(model)|>\n",
                "  step_impute_median(all_numeric_predictors())|>\n",
                "  step_mutate(model_year=2025-model_year,\n",
                "              milage_year=milage/model_year,\n",
                "              accident=case_when(\n",
                "                accident=='None reported'~'none',\n",
                "                accident=='At least 1 accident or damage reported'~'report',\n",
                "                accident==''~NA,\n",
                "                .default='unknow'))|>\n",
                "  step_mutate(brand= as.factor(brand),\n",
                "              #model= as.factor(model),\n",
                "              engine= as.factor(engine),\n",
                "              #ext_col= as.factor(ext_col),\n",
                "              #int_col= as.factor(int_col),\n",
                "              transmission= as.factor(transmission),\n",
                "              clean_title= as.factor(clean_title),\n",
                "              accident= as.factor(accident),\n",
                "              fuel_type=as.factor(fuel_type))|>\n",
                "  step_novel(all_nominal_predictors())|>\n",
                "  step_unknown(all_nominal_predictors())|>\n",
                "  step_other(all_nominal_predictors(),threshold=0.01)|>\n",
                "  step_dummy(all_nominal_predictors(),one_hot = TRUE)|>\n",
                "  \n",
                "  #step_log(price, offset=1, skip=TRUE) |>\n",
                "  step_log(milage,model_year,milage_year ,offset=1) |>\n",
                "  \n",
                "  step_nzv(all_numeric_predictors())|>\n",
                "  step_normalize(all_numeric_predictors())|>\n",
                "  step_corr(all_predictors())|>\n",
                "  check_missing(all_predictors())\n",
                " \n",
                "#rcp_bs_v3|>prep()|>juice()|>glimpse()\n"
            ]
        },
        {
            "cell_type": "markdown",
            "metadata": {},
            "source": [
                "\n",
                "#### 4.4 v4 base_line with engine & transmission\n"
            ]
        },
        {
            "cell_type": "code",
            "execution_count": null,
            "metadata": {
                "vscode": {
                    "languageId": "r"
                }
            },
            "outputs": [],
            "source": [
                "rcp_bs_v4 <- \n",
                "   recipe(price ~ ., data = train) |>\n",
                "  update_role(id, new_role = \"id\") |>\n",
                "  step_rm(ext_col,int_col)|>\n",
                "   step_mutate(\n",
                "    hp =stringr::str_extract(engine, \"^(\\\\d+\\\\.?\\\\d*)HP|^(\\\\d+)HP\")|>readr::parse_number(),\n",
                "    hp_missing = case_when(is.na(hp)~1,.default=0),\n",
                "    litre = stringr::str_extract(engine, \"(\\\\d+\\\\.?\\\\d*)L|(\\\\d+\\\\.?\\\\d*) Liter\")|>readr::parse_number(),\n",
                "    litre_missing = case_when(is.na(litre)~1,.default=0),\n",
                "    engine_type = stringr::str_extract(engine,'Rotary|H6|H4|V6|V-8|V8|V10|V12|W12|I3|I4|I6|\\\\s[4|5|6|8]\\\\s| 10 | 12 '),\n",
                "    is_ecar=case_when(grepl('Electric',engine)~1,.default=0),\n",
                "    voltage = stringr::str_extract(engine, \" (\\\\d\\\\d)V\")|>readr::parse_number(),\n",
                "    voltage_missing = case_when(is.na(voltage)~1,.default=0),\n",
                "    gdi_type = stringr::str_extract(engine, \"GDI|PFI|EFI|MPFI|DDI|SIDI\"),\n",
                "    gas_position = stringr::str_extract(engine, \"OHV|OHC|SOHC|DOHC\"),\n",
                "    cylinder = stringr::str_extract(engine, \"(\\\\d+) Cylinder|(\\\\d+) Cylinder Engine|(\\\\d+)(?=[^\\\\d]*Cylinder)\"),\n",
                "    is_turbo = case_when(grepl('Turbo|turbo',engine)~'YES'),\n",
                "    is_twinturbo= case_when(grepl('Twin|twin',engine)~'YES'),\n",
                "    fuel_info = stringr::str_extract(engine, \"Gasoline|Diesel|Electric|Flexible Fuel|Gasoline/Mild Electric Hybrid|Flex Fuel Capability\") )|>\n",
                "    step_mutate(speed =stringr::str_extract(transmission, \"^(\\\\d+)-Speed\")|>readr::parse_number(),\n",
                "              speed_missing = case_when(is.na(speed)~1,.default=0), \n",
                "              trans_mode=stringr::str_extract(transmission, 'Dual Shift Mode|Auto-Shift|A/T|AT|M/T|Mt|Automatic|At/Mt|F|Manual|Overdrive|CVT|Variable')) |>\n",
                "  step_rm(engine)|>\n",
                "  step_rm(transmission)|>\n",
                "  step_impute_median(all_numeric_predictors())|>\n",
                "  step_mutate(model_year=2025-model_year,\n",
                "              milage_year=milage/model_year,\n",
                "              accident=case_when(\n",
                "                accident=='None reported'~'none',\n",
                "                accident=='At least 1 accident or damage reported'~'report',\n",
                "                accident==''~NA,\n",
                "                .default='unknow'))|>\n",
                "  step_mutate(brand= as.factor(brand),\n",
                "              model= as.factor(model),\n",
                "              #engine= as.factor(engine),\n",
                "              #ext_col= as.factor(ext_col),\n",
                "              #int_col= as.factor(int_col),\n",
                "              #transmission= as.factor(transmission),\n",
                "              clean_title= as.factor(clean_title),\n",
                "              accident= as.factor(accident),\n",
                "              fuel_type=as.factor(fuel_type))|>\n",
                "   step_novel(all_nominal_predictors())|>\n",
                "  step_unknown(all_nominal_predictors())|>\n",
                "  step_other(all_nominal_predictors(),threshold=0.01)|>\n",
                "  step_dummy(all_nominal_predictors(),one_hot = TRUE)|>\n",
                "  #step_log(price, offset=1, skip=TRUE) |> # lead to bad rmse, remove it\n",
                "  step_log(milage,model_year,milage_year ,offset=1) |>\n",
                "  \n",
                "  step_nzv(all_numeric_predictors())|>\n",
                "  step_normalize(all_numeric_predictors())|>\n",
                "  step_corr(all_predictors())|>\n",
                "  check_missing(all_predictors())\n"
            ]
        },
        {
            "cell_type": "markdown",
            "metadata": {},
            "source": [
                "\n",
                "#### 4.5 v1+v3 engine + model \n"
            ]
        },
        {
            "cell_type": "code",
            "execution_count": null,
            "metadata": {
                "vscode": {
                    "languageId": "r"
                }
            },
            "outputs": [],
            "source": [
                "rcp_bs_v5 <- \n",
                "   recipe(price ~ ., data = train) |>\n",
                "  update_role(id, new_role = \"id\") |>\n",
                "  step_rm(ext_col,int_col)|>\n",
                "  step_mutate(\n",
                "    hp =stringr::str_extract(engine, \"^(\\\\d+\\\\.?\\\\d*)HP|^(\\\\d+)HP\")|>readr::parse_number(),\n",
                "    hp_missing = case_when(is.na(hp)~1,.default=0),\n",
                "    litre = stringr::str_extract(engine, \"(\\\\d+\\\\.?\\\\d*)L|(\\\\d+\\\\.?\\\\d*) Liter\")|>readr::parse_number(),\n",
                "    litre_missing = case_when(is.na(litre)~1,.default=0),\n",
                "    engine_type = stringr::str_extract(engine,'Rotary|H6|H4|V6|V-8|V8|V10|V12|W12|I3|I4|I6|\\\\s[4|5|6|8]\\\\s| 10 | 12 '),\n",
                "    is_ecar=case_when(grepl('Electric',engine)~1,.default=0),\n",
                "    voltage = stringr::str_extract(engine, \" (\\\\d\\\\d)V\")|>readr::parse_number(),\n",
                "    voltage_missing = case_when(is.na(voltage)~1,.default=0),\n",
                "    gdi_type = stringr::str_extract(engine, \"GDI|PFI|EFI|MPFI|DDI|SIDI\"),\n",
                "    gas_position = stringr::str_extract(engine, \"OHV|OHC|SOHC|DOHC\"),\n",
                "    cylinder = stringr::str_extract(engine, \"(\\\\d+) Cylinder|(\\\\d+) Cylinder Engine|(\\\\d+)(?=[^\\\\d]*Cylinder)\"),\n",
                "    is_turbo = case_when(grepl('Turbo|turbo',engine)~'YES'),\n",
                "    is_twinturbo= case_when(grepl('Twin|twin',engine)~'YES'),\n",
                "    fuel_info = stringr::str_extract(engine, \"Gasoline|Diesel|Electric|Flexible Fuel|Gasoline/Mild Electric Hybrid|Flex Fuel Capability\") )|>\n",
                "   step_mutate(model_type=stringr::str_extract(tolower(model),\n",
                "                                '([a-z]-class)|(premium|luxury|base|sport|premium plus|premium|turbo|matic|se|sel|platinum|limited|deluxe|laramie|lux|luxury|ultimate|gt|hse|xle|xlt)|( lt)'),\n",
                "         model_word = stringr::str_extract(model, \"^\\\\b[[:alnum:]-]+\\\\b\"),\n",
                "         # Extract the first number\n",
                "         model_number = stringr::str_extract(stringr::str_replace(model, \"\\\\b[[:alnum:]-]+\\\\b\", \"\"), \"\\\\d+\"))|>\n",
                "  step_rm(model)|>\n",
                "  step_rm(engine)|>\n",
                "   step_impute_median(all_numeric_predictors())|>\n",
                "  step_mutate(model_year=2025-model_year,\n",
                "              milage_year=milage/model_year,\n",
                "              accident=case_when(\n",
                "                accident=='None reported'~'none',\n",
                "                accident=='At least 1 accident or damage reported'~'report',\n",
                "                accident==''~NA,\n",
                "                .default='unknow'))|>\n",
                "  step_mutate(brand= as.factor(brand),\n",
                "              #model= as.factor(model),\n",
                "              #engine= as.factor(engine),\n",
                "              #ext_col= as.factor(ext_col),\n",
                "              #int_col= as.factor(int_col),\n",
                "              transmission= as.factor(transmission),\n",
                "              clean_title= as.factor(clean_title),\n",
                "              accident= as.factor(accident),\n",
                "              fuel_type=as.factor(fuel_type))|>\n",
                "   step_novel(all_nominal_predictors())|>\n",
                "  step_unknown(all_nominal_predictors())|>\n",
                "  step_other(all_nominal_predictors(),threshold=0.01)|>\n",
                " step_dummy(all_nominal_predictors(),one_hot = TRUE)|>\n",
                " #step_log(price, offset=1, skip=TRUE) |> # lead to bad rmse, remove it\n",
                " step_log(milage,model_year,milage_year ,offset=1) |>\n",
                " step_nzv(all_numeric_predictors())|>\n",
                " step_normalize(all_numeric_predictors())|>\n",
                " step_corr(all_predictors())|>\n",
                " check_missing(all_predictors())\n"
            ]
        },
        {
            "cell_type": "markdown",
            "metadata": {},
            "source": [
                " \n",
                "#### all recipes\n"
            ]
        },
        {
            "cell_type": "code",
            "execution_count": null,
            "metadata": {
                "vscode": {
                    "languageId": "r"
                }
            },
            "outputs": [],
            "source": [
                "set.seed(1234)\n",
                "library(future)\n",
                "library(furrr)\n",
                "selected_rcps <- list(#base=rcp_bs_v0,\n",
                "                      v1_engine=rcp_bs_v1,\n",
                "                      #v2_transmission=rcp_bs_v2,\n",
                "                      #v3_model = rcp_bs_v3,\n",
                "                      #v4_eng_trans=rcp_bs_v4,\n",
                "                      v5_engin_model= rcp_bs_v5)\n",
                "plan(multisession,workers = 5)\n",
                "selected_rcps|>future_map(\\(rcp_item) rcp_item|>prep()|>bake(new_data=train)|>summary())\n",
                "plan(sequential)\n"
            ]
        },
        {
            "cell_type": "markdown",
            "metadata": {},
            "source": [
                "\n",
                "### 5. Model Specification ----\n"
            ]
        },
        {
            "cell_type": "code",
            "execution_count": null,
            "metadata": {
                "vscode": {
                    "languageId": "r"
                }
            },
            "outputs": [],
            "source": [
                "lgbm_eng<-\n",
                "   boost_tree(\n",
                "     # trees = 500, # Number of trees\n",
                "     # learn_rate = 0.1,\n",
                "     # loss_reduction = 0.001,\n",
                "     # sample_size = 0.85, # Added sample_size\n",
                "     # tree_depth = tune(),\n",
                "     # mtry = tune(),\n",
                "     # min_n = tune()\n",
                "   ) |>\n",
                "   set_mode(\"regression\")|>\n",
                "   set_engine(\"lightgbm\",\n",
                "              metric='rmse', \n",
                "              # num_leaves = 30,\n",
                "              num_threads = 4,\n",
                "              verbose=1) \n",
                "\n",
                "lm_eng<-\n",
                "   linear_reg() |>\n",
                "   set_mode(\"regression\")|>\n",
                "   set_engine(\"lm\") \n",
                "\n",
                "selected_eng <- list(linear=lm_eng,\n",
                "                     lgbm=lgbm_eng)\n"
            ]
        },
        {
            "cell_type": "markdown",
            "metadata": {},
            "source": [
                "### 6. Workflow ----\n",
                "#### simple wflow\n"
            ]
        },
        {
            "cell_type": "code",
            "execution_count": null,
            "metadata": {
                "vscode": {
                    "languageId": "r"
                }
            },
            "outputs": [],
            "source": [
                "set.seed(1234)\n",
                "simple_wf_fit <-\n",
                "  workflow() |>\n",
                "  add_recipe(rcp_bs_v1) |>\n",
                "  add_model(lgbm_eng)|>\n",
                "  last_fit(df_split)\n",
                "\n",
                "simple_wf_fit|>collect_metrics()\n",
                "# simple_wf_fit |>\n",
                "#   extract_fit_engine()|>\n",
                "#   plot()\n",
                "\n",
                "simple_wf_diag_df<- \n",
                "  simple_wf_fit|>\n",
                "  collect_predictions()|>\n",
                "  mutate(.residual=price-.pred)|>\n",
                "  select(.row,.pred,.residual)|>\n",
                "  bind_cols(test_set)|>\n",
                "  relocate(all_of(c('price','.pred','.residual')),.after=1)\n"
            ]
        },
        {
            "cell_type": "markdown",
            "metadata": {},
            "source": [
                "#### simple workflowset\n",
                "\n"
            ]
        },
        {
            "cell_type": "code",
            "execution_count": null,
            "metadata": {
                "vscode": {
                    "languageId": "r"
                }
            },
            "outputs": [],
            "source": [
                "set.seed(1234)\n",
                "library(future)\n",
                "plan(multisession,workers = 12)\n",
                "ctrl <- control_resamples(save_pred = TRUE, save_workflow = TRUE,verbose=TRUE)\n",
                "wfs_result <-\n",
                "  workflow_set(preproc = selected_rcps,\n",
                "               models = selected_eng ) |>\n",
                "  workflow_map(fn='fit_resamples',\n",
                "               resamples =cv_folds,\n",
                "               metrics = metric_set(rmse, rsq),\n",
                "               control = ctrl\n",
                "               )\n",
                "wfs_result|>collect_metrics()  \n",
                "  \n",
                "plan(sequential)\n"
            ]
        },
        {
            "cell_type": "markdown",
            "metadata": {},
            "source": [
                "### 7 stacking\n"
            ]
        },
        {
            "cell_type": "code",
            "execution_count": null,
            "metadata": {
                "vscode": {
                    "languageId": "r"
                }
            },
            "outputs": [],
            "source": [
                "combined_fit <-\n",
                "  stacks::stacks()|>\n",
                "  stacks::add_candidates(wfs_result)|>\n",
                "  stacks::blend_predictions()|>\n",
                "  stacks::fit_members()\n",
                "\n",
                "combined_fit|>\n",
                "  autoplot(type = \"weights\")\n",
                "\n",
                "autoplot(combined_fit)\n"
            ]
        },
        {
            "cell_type": "markdown",
            "metadata": {},
            "source": [
                "\n",
                "### 7. Tuning Grid ----\n"
            ]
        },
        {
            "cell_type": "code",
            "execution_count": null,
            "metadata": {
                "vscode": {
                    "languageId": "r"
                }
            },
            "outputs": [],
            "source": [
                "# cars_grid <- grid_space_filling(\n",
                "#   #learn_rate(range = c(0.01, 0.1)),\n",
                "#   # loss_reduction(range = c(0, 10)), #Keep if you want it.\n",
                "#   #bag_fraction(range = c(0.7, 0.9)), # Specify prop = TRUE.\n",
                "#   tree_depth(range = c(5, 10)),\n",
                "#   finalize(mtry(range = c(2, 10)),\n",
                "#            select(cars_train_set, -Price)),\n",
                "#   min_n(range = c(2, 20)),\n",
                "#   size = 10\n",
                "# )\n"
            ]
        },
        {
            "cell_type": "markdown",
            "metadata": {},
            "source": [
                "\n",
                "### 8. Cross-Validation ----\n"
            ]
        },
        {
            "cell_type": "code",
            "execution_count": null,
            "metadata": {
                "vscode": {
                    "languageId": "r"
                }
            },
            "outputs": [],
            "source": [
                "# combined it with step3 data splitting\n",
                "\n"
            ]
        },
        {
            "cell_type": "markdown",
            "metadata": {},
            "source": [
                "\n",
                "### 9. Tuning and Evaluation ----\n"
            ]
        },
        {
            "cell_type": "code",
            "execution_count": null,
            "metadata": {
                "vscode": {
                    "languageId": "r"
                }
            },
            "outputs": [],
            "source": [
                "# plan(multisession,workers =2)\n",
                "# cars_tune_results <- cars_workflow |>\n",
                "#   tune_grid(\n",
                "#     resamples = cars_folds,\n",
                "#     grid = cars_grid,\n",
                "#     metrics = metric_set(rmse),\n",
                "#      control = control_grid(save_pred = TRUE, \n",
                "#                             verbose = TRUE,\n",
                "#                             allow_par = F) # Keep predictions\n",
                "#   )\n",
                "#  \n",
                "#  # Find best parameters\n",
                "#  best_params <- cars_tune_results |>\n",
                "#    select_best(\"rmse\")\n",
                "# \n",
                "#  # Finalize workflow with best parameters\n",
                "#  final_workflow <- cars_workflow |>\n",
                "#    finalize_workflow(best_params)\n"
            ]
        },
        {
            "cell_type": "markdown",
            "metadata": {},
            "source": [
                "\n",
                "\n"
            ]
        },
        {
            "cell_type": "code",
            "execution_count": null,
            "metadata": {
                "vscode": {
                    "languageId": "r"
                }
            },
            "outputs": [],
            "source": [
                "# Fit the final workflow to the training data\n",
                "# final_lgbm_fit <- last_fit(final_workflow,cars_split )\n",
                "# final_lgbm_mod <- extract_workflow(final_lgbm_fit )\n",
                "# collect_metrics(final_lgmb_mod)\n",
                "\n",
                "# plan(sequential)\n"
            ]
        },
        {
            "cell_type": "markdown",
            "metadata": {},
            "source": [
                "\n",
                "### 10. Evaluate on Test Set ----\n"
            ]
        },
        {
            "cell_type": "code",
            "execution_count": null,
            "metadata": {
                "vscode": {
                    "languageId": "r"
                }
            },
            "outputs": [],
            "source": [
                "combined_test_result <- \n",
                "  test_set %>%\n",
                "  bind_cols(predict(combined_fit, .))\n",
                "combined_test_result|>rsq(price, .pred)\n"
            ]
        },
        {
            "cell_type": "markdown",
            "metadata": {},
            "source": [
                "\n",
                "### 11. Prepare Submission ----\n"
            ]
        },
        {
            "cell_type": "code",
            "execution_count": null,
            "metadata": {
                "vscode": {
                    "languageId": "r"
                }
            },
            "outputs": [],
            "source": [
                "final_model <- combined_fit#simple_wf_fit|>extract_workflow()\n",
                "final_predictions <- final_model |>\n",
                "   predict(new_data = test) \n",
                "\n",
                " #Handle negative predictions\n",
                " final_predictions <- final_predictions |>\n",
                "   mutate(.pred= ifelse(.pred< 0, 0, .pred))\n",
                "\n",
                " # Save submission file\n",
                " submission |>\n",
                "   mutate(price=final_predictions$.pred)|>\n",
                "   readr::write_csv(\"submission.csv\")\n",
                " zip('submission.csv.zip','submission.csv')\n",
                " \n"
            ]
        },
        {
            "cell_type": "markdown",
            "metadata": {},
            "source": [
                "\n",
                "## kaggle submission\n"
            ]
        },
        {
            "cell_type": "code",
            "execution_count": null,
            "metadata": {
                "vscode": {
                    "languageId": "r"
                }
            },
            "outputs": [],
            "source": [
                "# submit latest submission.csv\n",
                "system('kaggle competitions submit -c playground-series-s4e9 -f submission.csv.zip -m \"stacking 69827/15.8% \"')\n",
                "Sys.sleep(15)\n",
                "# get latest score \n",
                "system('kaggle competitions submissions -q -c playground-series-s4e9')\n",
                "\n",
                "# get leader board score\n",
                "#system('kaggle competitions leaderboard -s -v -c playground-series-s4e9')\n"
            ]
        },
        {
            "cell_type": "markdown",
            "metadata": {},
            "source": [
                "\n"
            ]
        }
    ],
    "metadata": {
        "anaconda-cloud": "",
        "kernelspec": {
            "display_name": "R",
            "langauge": "R",
            "language": "R",
            "name": "ir"
        },
        "language_info": {
            "codemirror_mode": "r",
            "file_extension": ".r",
            "mimetype": "text/x-r-source",
            "name": "R",
            "pygments_lexer": "r",
            "version": "4.4.2"
        }
    },
    "nbformat": 4,
    "nbformat_minor": 1
}
